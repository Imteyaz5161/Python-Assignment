{
 "cells": [
  {
   "cell_type": "markdown",
   "id": "c9eada61",
   "metadata": {},
   "source": [
    "# Assignment 12"
   ]
  },
  {
   "cell_type": "markdown",
   "id": "beb49380",
   "metadata": {},
   "source": [
    "## 1. Does assigning a value to a string's indexed character violate Python's string immutability?"
   ]
  },
  {
   "cell_type": "markdown",
   "id": "d897da31",
   "metadata": {},
   "source": [
    "__Ans:__ String’s indexed character cannot to be assigned a New value , as Strings are __`immutable`__."
   ]
  },
  {
   "cell_type": "code",
   "execution_count": null,
   "id": "76ae540c",
   "metadata": {},
   "outputs": [],
   "source": [
    "Example:\n",
    "name = \"Reinforcement\"\n",
    "print(id(name)) #73472\n",
    "name[0] = \"V\" # Raises TypeError"
   ]
  },
  {
   "cell_type": "markdown",
   "id": "759aa3c8",
   "metadata": {},
   "source": [
    "## 2. Does using the += operator to concatenate strings violate Python's string immutability? Why or why not?"
   ]
  },
  {
   "cell_type": "markdown",
   "id": "dac5bc4f",
   "metadata": {},
   "source": [
    "__Ans:__ `+=` operator is used to concatenate strings, it does not violate Python’s string immutability Property. Because doing so new creates a new association with data and variable. E.g. `str_1=\"a\"` and `str_1+=\"b`. effect of this statements to create string `ab` and reassign it to variable `str_1`, any string data is not actually modified.\n",
    "\n"
   ]
  },
  {
   "cell_type": "code",
   "execution_count": 1,
   "id": "7858d275",
   "metadata": {},
   "outputs": [
    {
     "name": "stdout",
     "output_type": "stream",
     "text": [
      "1731050103024\n",
      "1731138761648\n"
     ]
    }
   ],
   "source": [
    "str_1 = 'a'\n",
    "print(id(str_1))\n",
    "str_1 += 'b'\n",
    "print(id(str_1)) # Does not Modify existing string, Creates a New String Object"
   ]
  },
  {
   "cell_type": "markdown",
   "id": "9be1bcce",
   "metadata": {},
   "source": [
    "## 3. In Python, how many different ways are there to index a character?"
   ]
  },
  {
   "cell_type": "markdown",
   "id": "11a73936",
   "metadata": {},
   "source": [
    "__Ans:__ A Character in string can be indexed using string name followed by index number of character in square bracket. `Positive Indexing` i.e. first index is 0 an so on, or `Negative Indexing` i.e. last letter is -1 and so on can be used to index a character"
   ]
  },
  {
   "cell_type": "code",
   "execution_count": 2,
   "id": "cde539cd",
   "metadata": {},
   "outputs": [
    {
     "name": "stdout",
     "output_type": "stream",
     "text": [
      "u l e\n",
      "e i c\n"
     ]
    }
   ],
   "source": [
    "in_string = \"iNeuron Full Stack Data Science\"\n",
    "print(in_string[9],in_string[10],in_string[2]) # Positive Indexing\n",
    "print(in_string[-1],in_string[-5],in_string[-2]) # Negative Indexing"
   ]
  },
  {
   "cell_type": "markdown",
   "id": "2f6f7e01",
   "metadata": {},
   "source": [
    "## 4. What is the relationship between indexing and slicing?"
   ]
  },
  {
   "cell_type": "markdown",
   "id": "023a1381",
   "metadata": {},
   "source": [
    "__Ans:__ We can access elements of sequence datatypes by using slicing and indexing. Indexing is used to obtaining individual element while slicing for sequence of elements."
   ]
  },
  {
   "cell_type": "code",
   "execution_count": 3,
   "id": "916cc08e",
   "metadata": {},
   "outputs": [
    {
     "name": "stdout",
     "output_type": "stream",
     "text": [
      "N u o\n",
      "Neuron Full St\n"
     ]
    }
   ],
   "source": [
    "in_string = \"iNeuron Full Stack Data Science\"\n",
    "print(in_string[1],in_string[3],in_string[5]) # Indexing\n",
    "print(in_string[1:15]) # Slicing"
   ]
  },
  {
   "cell_type": "markdown",
   "id": "9734a1a3",
   "metadata": {},
   "source": [
    "## 5. What is an indexed character's exact data type? What is the data form of a slicing-generated substring?"
   ]
  },
  {
   "cell_type": "markdown",
   "id": "68824474",
   "metadata": {},
   "source": [
    "__Ans:__ Indexed characters and sliced substrings have datatype __String__."
   ]
  },
  {
   "cell_type": "code",
   "execution_count": 5,
   "id": "087d9169",
   "metadata": {},
   "outputs": [
    {
     "name": "stdout",
     "output_type": "stream",
     "text": [
      "<class 'str'>\n",
      "<class 'str'>\n"
     ]
    }
   ],
   "source": [
    "in_string = \"iNeuron Full Stack Data Science\"\n",
    "print(type(in_string[3])) # Indexing -> str\n",
    "print(type(in_string[1:10])) # Indexing -> str"
   ]
  },
  {
   "cell_type": "markdown",
   "id": "208c7a72",
   "metadata": {},
   "source": [
    "## 6. What is the relationship between string and character \"types\" in Python?"
   ]
  },
  {
   "cell_type": "markdown",
   "id": "ebe32649",
   "metadata": {},
   "source": [
    "__Ans:__ Object that contains sequence of character datatypes are called String."
   ]
  },
  {
   "cell_type": "markdown",
   "id": "fb40b01c",
   "metadata": {},
   "source": [
    "## 7. Identify at least two operators and one method that allow you to combine one or more smaller strings to create a larger string."
   ]
  },
  {
   "cell_type": "markdown",
   "id": "8d45cbf4",
   "metadata": {},
   "source": [
    "__Ans:__ `+`, `+=` and `*` allow to combine one or more smaller strings to create a larger string. __`<string>.join(<sep>`__) method joins element of iterable type like list and tuple to get a combined string."
   ]
  },
  {
   "cell_type": "code",
   "execution_count": 6,
   "id": "71fb7311",
   "metadata": {},
   "outputs": [
    {
     "name": "stdout",
     "output_type": "stream",
     "text": [
      "iNeuron Full Stack Data Science FSDS\n",
      "FSDS FSDS FSDS \n",
      "I N E U R O N\n",
      "i n e u r o n\n"
     ]
    }
   ],
   "source": [
    "in_string = 'iNeuron '\n",
    "in_string += 'Full Stack Data Science'\n",
    "print(in_string + ' FSDS')\n",
    "print('FSDS '*3)\n",
    "print(\" \".join(['I','N','E','U','R','O','N'])) # List Iterable\n",
    "print(\" \".join(('I','N','E','U','R','O','N')).lower()) # Tuple Iterable"
   ]
  },
  {
   "cell_type": "markdown",
   "id": "f6f0efab",
   "metadata": {},
   "source": [
    "## 8. What is the benefit of first checking the target string with in or not in before using the index method to find a substring?"
   ]
  },
  {
   "cell_type": "markdown",
   "id": "52002fb3",
   "metadata": {},
   "source": [
    "__Ans:__ Checking the target string with __`in`__ or __`not`__ Operators before using the index method to find a substring just helps confirming availability of substring and thus avoid raising of __`ValueError`__."
   ]
  },
  {
   "cell_type": "code",
   "execution_count": null,
   "id": "9d7f31eb",
   "metadata": {},
   "outputs": [],
   "source": [
    "Example:\n",
    "in_string = \"ineuron\"\n",
    "in_string.index('x') # Raises ValueError\n",
    "in_string.index('u') # 3"
   ]
  },
  {
   "cell_type": "markdown",
   "id": "f0165805",
   "metadata": {},
   "source": [
    "## 9. Which operators and built-in string methods produce simple Boolean (true/false) results?"
   ]
  },
  {
   "cell_type": "markdown",
   "id": "f9b76787",
   "metadata": {},
   "source": [
    "__Ans:__ The String Operators and built-in methods to Produce Simple Boolean (True/False) Results are:\n",
    "\n",
    "- __`in`__\n",
    "- __`not`__\n",
    "- __`<string>.isalpha()`__\n",
    "- __`<string>.isalnum()`__\n",
    "- __`<string>.isdecimal()`__\n",
    "- __`<string>.isdigit()`__\n",
    "- __`<string>.islower()`__\n",
    "- __`<string>.isnumeric()`__\n",
    "- __`<string>.isprintable()`__\n",
    "- __`<string>.isspace()`__\n",
    "- __`<string>.istitle()`__"
   ]
  },
  {
   "cell_type": "code",
   "execution_count": null,
   "id": "134e2eda",
   "metadata": {},
   "outputs": [],
   "source": []
  }
 ],
 "metadata": {
  "kernelspec": {
   "display_name": "Python 3",
   "language": "python",
   "name": "python3"
  },
  "language_info": {
   "codemirror_mode": {
    "name": "ipython",
    "version": 3
   },
   "file_extension": ".py",
   "mimetype": "text/x-python",
   "name": "python",
   "nbconvert_exporter": "python",
   "pygments_lexer": "ipython3",
   "version": "3.8.8"
  }
 },
 "nbformat": 4,
 "nbformat_minor": 5
}
