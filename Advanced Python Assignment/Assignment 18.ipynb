{
 "cells": [
  {
   "cell_type": "markdown",
   "id": "ef5fa2d0",
   "metadata": {},
   "source": [
    "# Assignment 18"
   ]
  },
  {
   "cell_type": "markdown",
   "id": "2448b81d",
   "metadata": {},
   "source": [
    "## 1. Describe the differences between text and binary files in a single paragraph."
   ]
  },
  {
   "cell_type": "markdown",
   "id": "9bdad412",
   "metadata": {},
   "source": [
    "__Ans:__ The differences between `Text Files` and `Binary Files` are:\n",
    "\n",
    "__`Text files`__ are special subset of binary files that are used to store human readable characters as a rich text document or plain text document. Text files also store data in sequential bytes but bits in text file represents characters.\n",
    "\n",
    "__`Binary files`__ are those typical files that store data in the form of sequence of bytes grouped into eight bits or sometimes sixteen bits. These bits represent custom data and such files can store multiple types of data (images, audio, text, etc) under a single file."
   ]
  },
  {
   "cell_type": "markdown",
   "id": "31b70267",
   "metadata": {},
   "source": [
    "## 2. What are some scenarios where using text files will be the better option? When would you like to use binary files instead of text files?"
   ]
  },
  {
   "cell_type": "markdown",
   "id": "d0e02c36",
   "metadata": {},
   "source": [
    "__Ans:__ Text files are less prone to get corrupted as any undesired change may just show up once the file is opened and then can easily be removed. Whereas Use binary files instead of text files for image data."
   ]
  },
  {
   "cell_type": "markdown",
   "id": "f6184572",
   "metadata": {},
   "source": [
    "## 3. What are some of the issues with using binary operations to read and write a Python integer directly to disc?"
   ]
  },
  {
   "cell_type": "markdown",
   "id": "76518d30",
   "metadata": {},
   "source": [
    "__Ans:__ When we read or write a python integer using binary operations\n",
    "\n",
    "1. Binary operations deal with raw data\n",
    "2. One needs to identify how many bytes one would read or write."
   ]
  },
  {
   "cell_type": "markdown",
   "id": "3dd9b8d6",
   "metadata": {},
   "source": [
    "## 4. Describe a benefit of using the with keyword instead of explicitly opening a file."
   ]
  },
  {
   "cell_type": "markdown",
   "id": "e8009190",
   "metadata": {},
   "source": [
    "__Ans:__ When a file is opened using the with keyword, if some exceptions occur after opening a file, or at the end of the file it automatically does the closing of the file. There by not leaving an file in open mode and there would no need to explicitly close a file."
   ]
  },
  {
   "cell_type": "markdown",
   "id": "ac2fea23",
   "metadata": {},
   "source": [
    "## 5. Does Python have the trailing newline while reading a line of text? Does Python append a newline when you write a line of text?"
   ]
  },
  {
   "cell_type": "markdown",
   "id": "111dd70b",
   "metadata": {},
   "source": [
    "__Ans:__ Yes, Python have the trailing newline while reading a line of text. When we write a newline has to be provided in python excpicitly."
   ]
  },
  {
   "cell_type": "markdown",
   "id": "bc06369e",
   "metadata": {},
   "source": [
    "## 6. What file operations enable for random-access operation?"
   ]
  },
  {
   "cell_type": "markdown",
   "id": "5bb145e0",
   "metadata": {},
   "source": [
    "__Ans:__ The file operations enable for random-access operation are `seek()` and `tell()`"
   ]
  },
  {
   "cell_type": "markdown",
   "id": "fb44f2ea",
   "metadata": {},
   "source": [
    "## 7. When do you think you'll use the struct package the most?"
   ]
  },
  {
   "cell_type": "markdown",
   "id": "d56cb864",
   "metadata": {},
   "source": [
    "__Ans:__ The struct package is mostly used while converting a common python types into C language types."
   ]
  },
  {
   "cell_type": "markdown",
   "id": "899c9385",
   "metadata": {},
   "source": [
    "## 8. When is pickling the best option?"
   ]
  },
  {
   "cell_type": "markdown",
   "id": "1ed06365",
   "metadata": {},
   "source": [
    "__Ans__ Pickling is best option for creating a new binary file using python. Pickle in Python is primarily used in serializing and deserializing a Python object structure. In other words, it’s the process of converting a Python object into a byte stream to store it in a file/database, maintain program state across sessions, or transport data over the network. The pickled byte stream can be used to re-create the original object hierarchy by unpickling the stream. This whole process is similar to object serialization in Java or .Net."
   ]
  },
  {
   "cell_type": "markdown",
   "id": "f3ba094c",
   "metadata": {},
   "source": [
    "## 9. When will it be best to use the shelve package?"
   ]
  },
  {
   "cell_type": "markdown",
   "id": "87942a6b",
   "metadata": {},
   "source": [
    "__Ans:__ Shelve package is used to pickle data but treats the entire file as dictionary. A “shelf” is a persistent, dictionary-like object. The difference with “dbm” databases is that the values (not the keys) in a shelf can be essentially arbitrary Python objects — anything that the pickle module can handle. This includes most class instances, recursive data types, and objects containing lots of shared sub-objects. The keys are ordinary strings.\n",
    "\n",
    "Syntax: shelve.open(filename, flag='c', protocol=None, writeback=False)"
   ]
  },
  {
   "cell_type": "markdown",
   "id": "345ab1f9",
   "metadata": {},
   "source": [
    "## 10. What is a special restriction when using the shelve package, as opposed to using other data dictionaries?"
   ]
  },
  {
   "cell_type": "markdown",
   "id": "7c809ade",
   "metadata": {},
   "source": [
    "__Ans:__ Only string data type can be used as key in this special dictionary object, whereas any picklable Python object can be used as value."
   ]
  },
  {
   "cell_type": "code",
   "execution_count": null,
   "id": "0ea6b9e0",
   "metadata": {},
   "outputs": [],
   "source": []
  }
 ],
 "metadata": {
  "kernelspec": {
   "display_name": "Python 3",
   "language": "python",
   "name": "python3"
  },
  "language_info": {
   "codemirror_mode": {
    "name": "ipython",
    "version": 3
   },
   "file_extension": ".py",
   "mimetype": "text/x-python",
   "name": "python",
   "nbconvert_exporter": "python",
   "pygments_lexer": "ipython3",
   "version": "3.8.8"
  }
 },
 "nbformat": 4,
 "nbformat_minor": 5
}
