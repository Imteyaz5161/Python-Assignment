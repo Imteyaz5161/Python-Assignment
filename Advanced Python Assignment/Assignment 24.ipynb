{
 "cells": [
  {
   "cell_type": "markdown",
   "id": "03bb12bc",
   "metadata": {},
   "source": [
    "# Assignment 24"
   ]
  },
  {
   "cell_type": "markdown",
   "id": "e8d216cc",
   "metadata": {},
   "source": [
    "## 1. Is it permissible to use several import statements to import the same module? What would the goal be? Can you think of a situation where it would be beneficial?\n"
   ]
  },
  {
   "cell_type": "markdown",
   "id": "52ff650b",
   "metadata": {},
   "source": [
    "__Ans:__ Yes, it is permissible to use several import statements to import the same module. It is used in case when we have to import multiple functions from same module."
   ]
  },
  {
   "cell_type": "markdown",
   "id": "01176570",
   "metadata": {},
   "source": [
    "## 2. What are some of a module's characteristics? (Name at least one.)"
   ]
  },
  {
   "cell_type": "markdown",
   "id": "859e02ce",
   "metadata": {},
   "source": [
    "__Ans:__ The following are some of a module's characteristics:\n",
    "\n",
    "`name:` It returns the name of the module\n",
    "\n",
    "`doc:` It denotes the documentation string line written in a module code.\n",
    "\n",
    "`file:` It holds the name and path of the module file from which it is loaded\n",
    "\n",
    "`dict:` It returns a dictionary object of module attributes, functions and other definitions and their respective values"
   ]
  },
  {
   "cell_type": "markdown",
   "id": "d12c9bf5",
   "metadata": {},
   "source": [
    "## 3. Circular importing, such as when two modules import each other, can lead to dependencies and bugs that aren't visible. How can you go about creating a program that avoids mutual importing?"
   ]
  },
  {
   "cell_type": "markdown",
   "id": "ec00c80b",
   "metadata": {},
   "source": [
    "__Ans:__ Circular importing means importing the two modules in each other. If suppose we are wokring in MOD1.py file and it is importing some function say F2() from some other module say MOD2.PY file or we can do vice-versa. What will happen is: This will give an import error.\n",
    "\n",
    "This is because when we import F2() function from module MOD2.py, then this will execute MOD2.py file. And in MOD2.py file there is an another statement of importing MOD1.py module.\n",
    "\n",
    "This will result in endless loop. To avoid this error just do one thingWe can use if `name` == `'main'`\n",
    "\n",
    "In the function, you can't directly refer to the function in the program. The addition of this sentence avoids the endless loop of the program ."
   ]
  },
  {
   "cell_type": "markdown",
   "id": "a442be20",
   "metadata": {},
   "source": [
    "## 4. Why is  _ _all_ _ in Python?"
   ]
  },
  {
   "cell_type": "markdown",
   "id": "95b76540",
   "metadata": {},
   "source": [
    "__Ans:__ It provides list of all modules present in a library."
   ]
  },
  {
   "cell_type": "markdown",
   "id": "1bff334a",
   "metadata": {},
   "source": [
    "## 5. In what situation is it useful to refer to the _ _name_ _ attribute or the string '_ _main_ _'?"
   ]
  },
  {
   "cell_type": "markdown",
   "id": "9083e445",
   "metadata": {},
   "source": [
    "__Ans:__ During the time of execution of the code, if we want to refer the module in which we are working on, then we use name attribute. In that case it will return the module in which we are working on. Suppose if the module is being imported from some other module, then name will have the name of that module from where the current module has been imported. The current module in which we are working is refer to the string __main __.\n",
    "\n",
    "This built-in attributes prints the name of the class, type, function, method, descriptor, or generator instance.\n",
    "\n",
    "For example, if the python interpreter is running that module (the source file) as the main program, it sets the special name variable to have a value \"main\". If this file is being imported from another module, name will be set to the module's name."
   ]
  },
  {
   "cell_type": "code",
   "execution_count": 1,
   "id": "c977d9d5",
   "metadata": {},
   "outputs": [
    {
     "name": "stdout",
     "output_type": "stream",
     "text": [
      "hello\n"
     ]
    }
   ],
   "source": [
    "def try_():\n",
    "    print('hello')\n",
    "if __name__=='__main__':\n",
    "    try_()"
   ]
  },
  {
   "cell_type": "markdown",
   "id": "d8c1d140",
   "metadata": {},
   "source": [
    "## 6. What are some of the benefits of attaching a program counter to the RPN interpreter application, which interprets an RPN script line by line?"
   ]
  },
  {
   "cell_type": "markdown",
   "id": "40558eb3",
   "metadata": {},
   "source": [
    "__Ans:__ The function returns True if we can add operator to current expression:\n",
    "we scan the list and add +1 to counter when we meet a letter\n",
    "and we add -1 when we meet an operator (it reduces\n",
    "last two letters into 1 (say ab+ <--> a + b)"
   ]
  },
  {
   "cell_type": "code",
   "execution_count": 2,
   "id": "6ba82c73",
   "metadata": {},
   "outputs": [
    {
     "data": {
      "text/plain": [
       "True"
      ]
     },
     "execution_count": 2,
     "metadata": {},
     "output_type": "execute_result"
    }
   ],
   "source": [
    "def can_add_operator(string_):\n",
    "    n = 0\n",
    "    for letter in string_:\n",
    "        if letter not in ['+', '-', '*', '/']:\n",
    "            n += 1\n",
    "        else:\n",
    "            n -= 1\n",
    "    result = n > 1\n",
    "    return result\n",
    "\n",
    "\n",
    "can_add_operator('abc') #False\n",
    "can_add_operator('abc')  #True"
   ]
  },
  {
   "cell_type": "markdown",
   "id": "4869910b",
   "metadata": {},
   "source": [
    "## 7. What are the minimum expressions or statements (or both) that you'd need to render a basic programming language like RPN primitive but complete— that is, capable of carrying out any computerised task theoretically possible?"
   ]
  },
  {
   "cell_type": "markdown",
   "id": "0ea8fb31",
   "metadata": {},
   "source": [
    "__Ans:__ Notations  : +-/*\n",
    "These are the basic notations we require to carry out a computerised task , like RPN Primitive.\n",
    "We also need a particular data structure for storing elements from a statements except operators"
   ]
  },
  {
   "cell_type": "code",
   "execution_count": null,
   "id": "677c2585",
   "metadata": {},
   "outputs": [],
   "source": []
  }
 ],
 "metadata": {
  "kernelspec": {
   "display_name": "Python 3",
   "language": "python",
   "name": "python3"
  },
  "language_info": {
   "codemirror_mode": {
    "name": "ipython",
    "version": 3
   },
   "file_extension": ".py",
   "mimetype": "text/x-python",
   "name": "python",
   "nbconvert_exporter": "python",
   "pygments_lexer": "ipython3",
   "version": "3.8.8"
  }
 },
 "nbformat": 4,
 "nbformat_minor": 5
}
