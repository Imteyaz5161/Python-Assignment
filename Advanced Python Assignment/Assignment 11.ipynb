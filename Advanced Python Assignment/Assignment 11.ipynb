{
 "cells": [
  {
   "cell_type": "markdown",
   "id": "80eaa1bd",
   "metadata": {},
   "source": [
    "# Assignment 11"
   ]
  },
  {
   "cell_type": "markdown",
   "id": "5d4f7d09",
   "metadata": {},
   "source": [
    "## 1. What is the concept of a metaclass?"
   ]
  },
  {
   "cell_type": "markdown",
   "id": "2e2dc60c",
   "metadata": {},
   "source": [
    "__Ans:__ Metaclass in Python is a class of a class that defines how a class behaves. A class is itself a instance of Metaclass, and any Instance of Class in Python is an Instance of type metaclass.\n",
    "\n",
    "E.g. Type of of `int`, `str`, `float`, `list`, `tuple` and many more is of metaclass type."
   ]
  },
  {
   "cell_type": "markdown",
   "id": "a396e2fb",
   "metadata": {},
   "source": [
    "## 2. What is the best way to declare a class's metaclass?"
   ]
  },
  {
   "cell_type": "markdown",
   "id": "3d16d3ac",
   "metadata": {},
   "source": [
    "__Ans:__ A way to declare a class’ metaclass is by using `metaclass` keyword in class definition."
   ]
  },
  {
   "cell_type": "code",
   "execution_count": 3,
   "id": "43f06fee",
   "metadata": {},
   "outputs": [
    {
     "name": "stdout",
     "output_type": "stream",
     "text": [
      "<class 'type'>\n",
      "<class '__main__.meta'>\n"
     ]
    }
   ],
   "source": [
    "class meta(type):\n",
    "    pass\n",
    "class class_meta(metaclass=meta):\n",
    "    pass\n",
    "print(type(meta))\n",
    "print(type(class_meta))"
   ]
  },
  {
   "cell_type": "markdown",
   "id": "5839ba7a",
   "metadata": {},
   "source": [
    "## 3. How do class decorators overlap with metaclasses for handling classes?"
   ]
  },
  {
   "cell_type": "markdown",
   "id": "c3539179",
   "metadata": {},
   "source": [
    "__Ans:__ Anything you can do with a class decorator, you can of course do with a custom metaclasses (just apply the functionality of the \"decorator function\", i.e., the one that takes a class object and modifies it, in the course of the metaclass's `__new__` or `__init__` that make the class object!)."
   ]
  },
  {
   "cell_type": "markdown",
   "id": "abb697db",
   "metadata": {},
   "source": [
    "## 4. How do class decorators overlap with metaclasses for handling instances?"
   ]
  },
  {
   "cell_type": "markdown",
   "id": "b97ec92b",
   "metadata": {},
   "source": [
    "__Ans:__ Anything you can do with a class decorator, you can of course do with a custom metaclass (just apply the functionality of the \"decorator function\", i.e., the one that takes a class object and modifies it, in the course of the metaclass's `__new__` or `__init__` that make the class object!)."
   ]
  },
  {
   "cell_type": "code",
   "execution_count": null,
   "id": "1ff30d0f",
   "metadata": {},
   "outputs": [],
   "source": []
  }
 ],
 "metadata": {
  "kernelspec": {
   "display_name": "Python 3",
   "language": "python",
   "name": "python3"
  },
  "language_info": {
   "codemirror_mode": {
    "name": "ipython",
    "version": 3
   },
   "file_extension": ".py",
   "mimetype": "text/x-python",
   "name": "python",
   "nbconvert_exporter": "python",
   "pygments_lexer": "ipython3",
   "version": "3.8.8"
  }
 },
 "nbformat": 4,
 "nbformat_minor": 5
}
