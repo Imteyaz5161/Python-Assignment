{
 "cells": [
  {
   "cell_type": "markdown",
   "id": "2da84423",
   "metadata": {},
   "source": [
    "# Assignment 23"
   ]
  },
  {
   "cell_type": "markdown",
   "id": "2af39bbf",
   "metadata": {},
   "source": [
    "## 1. If you have any, what are your choices for increasing the comparison between different figures on the same graph?"
   ]
  },
  {
   "cell_type": "markdown",
   "id": "776a02a0",
   "metadata": {},
   "source": [
    "__Ans:__ Matplotlib provides a convenient method called subplots for increasing the comparison between different figures on the same graph. Subplots mean a group of smaller axes (where each axis is a plot) that can exist together within a single figure."
   ]
  },
  {
   "cell_type": "markdown",
   "id": "d5d57a57",
   "metadata": {},
   "source": [
    "## 2. Can you explain the benefit of compound interest over a higher rate of interest that does not compound after reading this chapter?"
   ]
  },
  {
   "cell_type": "markdown",
   "id": "566229f8",
   "metadata": {},
   "source": [
    "__Ans:__ Compound interest makes a sum of money grow at a faster rate than simple interest,because in addition to earning returns on the money you invest, you also earn returns on those returns at the end of every compounding period, which could be daily, monthly, quarterly or annually."
   ]
  },
  {
   "cell_type": "markdown",
   "id": "311d57eb",
   "metadata": {},
   "source": [
    "## 3. What is a histogram, exactly? Name a numpy method for creating such a graph."
   ]
  },
  {
   "cell_type": "markdown",
   "id": "a7aad55a",
   "metadata": {},
   "source": [
    "__Ans:__ Histogram shows total values of X wrt Y. Which means at any particular position of X, Y value shows the total number of counts or data below that value of X. `numpy.histogram()` is the built in function used."
   ]
  },
  {
   "cell_type": "markdown",
   "id": "df0995c0",
   "metadata": {},
   "source": [
    "## 4. If necessary, how do you change the aspect ratios between the X and Y axes?"
   ]
  },
  {
   "cell_type": "markdown",
   "id": "00abc425",
   "metadata": {},
   "source": [
    "__Ans:__ We can use `figure(figsize=(10,8))` function inside the `matplot.pyplot` library which we scale down or up the graph."
   ]
  },
  {
   "cell_type": "markdown",
   "id": "6a565a2e",
   "metadata": {},
   "source": [
    "## 5. Compare and contrast the three types of array multiplication between two numpy arrays: dot product, outer product, and regular multiplication of two numpy arrays."
   ]
  },
  {
   "cell_type": "markdown",
   "id": "33ab8c07",
   "metadata": {},
   "source": [
    "__Ans:__ \n",
    "\n",
    "- In regular multiplication values of same index get multiplied.\n",
    "- In dot product there is row wise multiplication, row of one array with column of second array and so on.\n",
    "- In outer multiplication every element of first array a1 will be multiply by every element of other array a2 such such the number of columns will be equal to the number of element in another array a2."
   ]
  },
  {
   "cell_type": "markdown",
   "id": "b8ec0e8d",
   "metadata": {},
   "source": [
    "## 6. Before you buy a home, which numpy function will you use to measure your monthly mortgage payment?"
   ]
  },
  {
   "cell_type": "markdown",
   "id": "ab562ce2",
   "metadata": {},
   "source": [
    "__Ans:__ `np.pmt(rate, nper, pv)` function we will be using in order to calculate monthly mortgage payment before you purchase a house.\n",
    "\n",
    "`rate =` The periodic interest rate\n",
    "\n",
    "`nper =` The number of payment periods\n",
    "\n",
    "`pv =` The total value of the mortgage loan"
   ]
  },
  {
   "cell_type": "markdown",
   "id": "97ac4a4f",
   "metadata": {},
   "source": [
    "## 7. Can string data be stored in numpy arrays? If so, list at least one restriction that applies to this data."
   ]
  },
  {
   "cell_type": "markdown",
   "id": "420aa4dc",
   "metadata": {},
   "source": [
    "__Ans:__ Yes, an array can store the string. The limitation which imposed on the string data is, whenever we store the data of string dtype then it should should keep in mind that the string which is having the maximum length is the limit."
   ]
  },
  {
   "cell_type": "code",
   "execution_count": 5,
   "id": "4be4e1c4",
   "metadata": {},
   "outputs": [
    {
     "name": "stdout",
     "output_type": "stream",
     "text": [
      "['USA' 'Japan' 'UK' '' 'India' 'China']\n",
      "['USA' 'Japan' 'UK' 'New Z' 'India' 'China']\n"
     ]
    }
   ],
   "source": [
    "# importing numpy as np\n",
    "import numpy as np\n",
    "  \n",
    "# Create the numpy array\n",
    "country = np.array(['USA', 'Japan', 'UK', '', 'India', 'China'])\n",
    "  \n",
    "# Print the array\n",
    "print(country)\n",
    "\n",
    "# Assign 'New Zealand' at the place of missing value\n",
    "country[country == ''] = 'New Zealand'\n",
    "  \n",
    "# Print the modified array\n",
    "print(country)"
   ]
  },
  {
   "cell_type": "code",
   "execution_count": null,
   "id": "d05657c8",
   "metadata": {},
   "outputs": [],
   "source": []
  }
 ],
 "metadata": {
  "kernelspec": {
   "display_name": "Python 3",
   "language": "python",
   "name": "python3"
  },
  "language_info": {
   "codemirror_mode": {
    "name": "ipython",
    "version": 3
   },
   "file_extension": ".py",
   "mimetype": "text/x-python",
   "name": "python",
   "nbconvert_exporter": "python",
   "pygments_lexer": "ipython3",
   "version": "3.8.8"
  }
 },
 "nbformat": 4,
 "nbformat_minor": 5
}
