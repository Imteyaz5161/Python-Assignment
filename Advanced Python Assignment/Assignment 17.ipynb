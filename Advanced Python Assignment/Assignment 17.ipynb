{
 "cells": [
  {
   "cell_type": "markdown",
   "id": "8bd32d8a",
   "metadata": {},
   "source": [
    "# Assignment 17"
   ]
  },
  {
   "cell_type": "markdown",
   "id": "8c78f51e",
   "metadata": {},
   "source": [
    "## 1. Explain the difference between greedy and non-greedy syntax with visual terms in as few words as possible. What is the bare minimum effort required to transform a greedy pattern into a non-greedy one? What characters or characters can you introduce or change?"
   ]
  },
  {
   "cell_type": "markdown",
   "id": "82b7a28e",
   "metadata": {},
   "source": [
    "__Ans:__ The Main `difference between Greedy and Non Greedy` Match Syntax is The __`Greedy`__ Match will try to match as many repetitions of the quantified pattern as possible Whereas The __`Non-Greedy`__ Match will try to match as few repetitions of the quantified pattern as possible"
   ]
  },
  {
   "cell_type": "code",
   "execution_count": 2,
   "id": "19022e54",
   "metadata": {},
   "outputs": [
    {
     "name": "stdout",
     "output_type": "stream",
     "text": [
      "['dddddd', '']\n",
      "['', 'd', '', 'd', '', 'd', '', 'd', '', 'd', '', 'd', '']\n"
     ]
    }
   ],
   "source": [
    "import re\n",
    "print(re.findall(\"d*\", \"dddddd\")) # Greedy Match Synatx\n",
    "print(re.findall(\"d*?\", \"dddddd\")) # Non Greddy Syntax"
   ]
  },
  {
   "cell_type": "markdown",
   "id": "89146cac",
   "metadata": {},
   "source": [
    "## 2. When exactly does greedy versus non-greedy make a difference?  What if you're looking for a non-greedy match but the only one available is greedy?"
   ]
  },
  {
   "cell_type": "markdown",
   "id": "690f1540",
   "metadata": {},
   "source": [
    "__Ans:__ The `Greedy` Match will try to match as many repetitions of the quantified pattern as possible. The `Non Greedy` Match will try to match as few repetitions of the quantified pattern as possible. If only `Non Greedy` Match is available, we can use other filtering or pattern matching methods of regex and further identify the required pattern."
   ]
  },
  {
   "cell_type": "markdown",
   "id": "0b3a394f",
   "metadata": {},
   "source": [
    "## 3. In a simple match of a string, which looks only for one match and does not do any replacement, is the use of a nontagged group likely to make any practical difference?"
   ]
  },
  {
   "cell_type": "markdown",
   "id": "98b79ef5",
   "metadata": {},
   "source": [
    "__Ans:__ In this Case The Non Tagged Group will not make any diffrence in this case."
   ]
  },
  {
   "cell_type": "code",
   "execution_count": 5,
   "id": "f0decc95",
   "metadata": {},
   "outputs": [
    {
     "name": "stdout",
     "output_type": "stream",
     "text": [
      "Phone number found -> 187\n",
      "Phone number found -> 187\n"
     ]
    }
   ],
   "source": [
    "import re\n",
    "phoneNumRegex = re.compile(r'\\d\\d\\d')\n",
    "num = phoneNumRegex.search('My number is 187-456-7891.')\n",
    "print(f'Phone number found -> {num.group()}') # Non Tagged group\n",
    "print(f'Phone number found -> {num.group(0)}') # Tagged Group"
   ]
  },
  {
   "cell_type": "markdown",
   "id": "7899c659",
   "metadata": {},
   "source": [
    "## 4. Describe a scenario in which using a nontagged category would have a significant impact on the program's outcomes."
   ]
  },
  {
   "cell_type": "markdown",
   "id": "f8cfee7e",
   "metadata": {},
   "source": [
    "__Ans:__ Here in the below Code Snippet . decimal is not tagged or captured. It will useful in `scenarios` where the separator of value in a string is of no use and we need to capture only the values."
   ]
  },
  {
   "cell_type": "code",
   "execution_count": 9,
   "id": "e9d65078",
   "metadata": {},
   "outputs": [
    {
     "data": {
      "text/plain": [
       "('187', '456')"
      ]
     },
     "execution_count": 9,
     "metadata": {},
     "output_type": "execute_result"
    }
   ],
   "source": [
    "import re\n",
    "text='187.456'\n",
    "pattern=r'(\\d+)(?:.)(\\d+)'\n",
    "regobj=re.compile(pattern)\n",
    "matobj=regobj.search(text)\n",
    "matobj.groups()"
   ]
  },
  {
   "cell_type": "markdown",
   "id": "1f08536d",
   "metadata": {},
   "source": [
    "## 5. Unlike a normal regex pattern, a look-ahead condition does not consume the characters it examines. Describe a situation in which this could make a difference in the results of your programme."
   ]
  },
  {
   "cell_type": "markdown",
   "id": "6043beda",
   "metadata": {},
   "source": [
    "__Ans:__ While counting the number of multiple lines or mutiple sentence in a string the positive look ahead makes a difference, without which we wont get the correct count of lines or sentences in a string."
   ]
  },
  {
   "cell_type": "markdown",
   "id": "a98066a9",
   "metadata": {},
   "source": [
    "## 6. In standard expressions, what is the difference between positive look-ahead and negative look-ahead?"
   ]
  },
  {
   "cell_type": "markdown",
   "id": "d693b54f",
   "metadata": {},
   "source": [
    "__Ans:__ __`Positive Lookahead`__ allows to add a condition for what follows. __`Negative Lookahead`__ is similar, but it looks behind. That is, it allows to match a pattern only if there’s something before it."
   ]
  },
  {
   "cell_type": "code",
   "execution_count": 12,
   "id": "3c64114b",
   "metadata": {},
   "outputs": [
    {
     "name": "stdout",
     "output_type": "stream",
     "text": [
      "5\n"
     ]
    }
   ],
   "source": [
    "#Positive Look Ahead\n",
    "import re\n",
    "\n",
    "s = '1 Python is about 5 feet long'\n",
    "pattern = '\\d+(?=\\s*feet)'\n",
    "\n",
    "matches = re.finditer(pattern,s)\n",
    "for match in matches:\n",
    "    print(match.group())"
   ]
  },
  {
   "cell_type": "code",
   "execution_count": 13,
   "id": "2257b2d4",
   "metadata": {},
   "outputs": [
    {
     "name": "stdout",
     "output_type": "stream",
     "text": [
      "1\n"
     ]
    }
   ],
   "source": [
    "#Negative Look Ahead\n",
    "import re\n",
    "\n",
    "s = '1 Python is about 5 feet long'\n",
    "pattern = '\\d+(?!\\s*feet)'\n",
    "\n",
    "matches = re.finditer(pattern,s)\n",
    "for match in matches:\n",
    "    print(match.group())"
   ]
  },
  {
   "cell_type": "markdown",
   "id": "b94a0925",
   "metadata": {},
   "source": [
    "## 7. What is the benefit of referring to groups by name rather than by number in a standard expression?"
   ]
  },
  {
   "cell_type": "markdown",
   "id": "02a05e4c",
   "metadata": {},
   "source": [
    "__Ans:__ Referring to groups by name rather than by number in a standard expression helps to keep the code clear and easy to understand."
   ]
  },
  {
   "cell_type": "markdown",
   "id": "460d3be5",
   "metadata": {},
   "source": [
    "## 8. Can you identify repeated items within a target string using named groups, as in \"The cow jumped over the moon\"?"
   ]
  },
  {
   "cell_type": "code",
   "execution_count": 14,
   "id": "bb4bb272",
   "metadata": {},
   "outputs": [
    {
     "data": {
      "text/plain": [
       "['The', 'the']"
      ]
     },
     "execution_count": 14,
     "metadata": {},
     "output_type": "execute_result"
    }
   ],
   "source": [
    "import re\n",
    "text = \"The cow jumped over the moon\"\n",
    "regobj=re.compile(r'(?P<w1>The)',re.I)\n",
    "regobj.findall(text)"
   ]
  },
  {
   "cell_type": "markdown",
   "id": "390d09cb",
   "metadata": {},
   "source": [
    "## 9. When parsing a string, what is at least one thing that the Scanner interface does for you that the re.findall feature does not?"
   ]
  },
  {
   "cell_type": "markdown",
   "id": "af6ca9dd",
   "metadata": {},
   "source": [
    "__Ans:__ __`re.findall()`__ module is used to search for all occurrences that match a given pattern. In contrast, re.search() will only return the first occurrence that matches the specified pattern. re.findall() will iterate over all the lines of the file and will return all non-overlapping matches of pattern in a single step."
   ]
  },
  {
   "cell_type": "markdown",
   "id": "b08ef30a",
   "metadata": {},
   "source": [
    "## 10. Does a scanner object have to be named scanner?"
   ]
  },
  {
   "cell_type": "markdown",
   "id": "edcf3891",
   "metadata": {},
   "source": [
    "__Ans:__ No, It may have any name. For example instead of naming Scanner object as scanner, we can name as sc"
   ]
  },
  {
   "cell_type": "code",
   "execution_count": null,
   "id": "bce10715",
   "metadata": {},
   "outputs": [],
   "source": []
  }
 ],
 "metadata": {
  "kernelspec": {
   "display_name": "Python 3",
   "language": "python",
   "name": "python3"
  },
  "language_info": {
   "codemirror_mode": {
    "name": "ipython",
    "version": 3
   },
   "file_extension": ".py",
   "mimetype": "text/x-python",
   "name": "python",
   "nbconvert_exporter": "python",
   "pygments_lexer": "ipython3",
   "version": "3.8.8"
  }
 },
 "nbformat": 4,
 "nbformat_minor": 5
}
