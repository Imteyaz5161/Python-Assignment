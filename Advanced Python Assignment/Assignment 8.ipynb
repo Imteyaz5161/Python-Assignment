{
 "cells": [
  {
   "cell_type": "markdown",
   "id": "9313f325",
   "metadata": {},
   "source": [
    "# Assignment 8"
   ]
  },
  {
   "cell_type": "markdown",
   "id": "77c2ba31",
   "metadata": {},
   "source": [
    "## 1. What are the two latest user-defined exception constraints in Python 3.X?"
   ]
  },
  {
   "cell_type": "markdown",
   "id": "9ff5bd6e",
   "metadata": {},
   "source": [
    "__Ans:__  __`raise`__ and __`assert`__ are the two latest user-defined exception constraints in Python 3.X"
   ]
  },
  {
   "cell_type": "markdown",
   "id": "83d699f3",
   "metadata": {},
   "source": [
    "## 2. How are class-based exceptions that have been raised matched to handlers?"
   ]
  },
  {
   "cell_type": "markdown",
   "id": "5966de46",
   "metadata": {},
   "source": [
    "__Ans:__ In python, Users can define custom exceptions by creating a new class. This exception class has to be derived, either directly or indirectly from built-in __`Exception`__ class. This new exception class like other exceptions can be raised using the __`raise`__ statement with an optional error message."
   ]
  },
  {
   "cell_type": "code",
   "execution_count": 2,
   "id": "d6bea9b1",
   "metadata": {},
   "outputs": [
    {
     "ename": "ToYoungException",
     "evalue": "To Young For Voting",
     "output_type": "error",
     "traceback": [
      "\u001b[1;31m---------------------------------------------------------------------------\u001b[0m",
      "\u001b[1;31mToYoungException\u001b[0m                          Traceback (most recent call last)",
      "\u001b[1;32m<ipython-input-2-b97f009151c8>\u001b[0m in \u001b[0;36m<module>\u001b[1;34m\u001b[0m\n\u001b[0;32m      3\u001b[0m         \u001b[0mself\u001b[0m\u001b[1;33m.\u001b[0m\u001b[0mmsg\u001b[0m \u001b[1;33m=\u001b[0m \u001b[0mmsg\u001b[0m\u001b[1;33m\u001b[0m\u001b[1;33m\u001b[0m\u001b[0m\n\u001b[0;32m      4\u001b[0m \u001b[0mage\u001b[0m \u001b[1;33m=\u001b[0m \u001b[1;36m12\u001b[0m\u001b[1;33m\u001b[0m\u001b[1;33m\u001b[0m\u001b[0m\n\u001b[1;32m----> 5\u001b[1;33m \u001b[1;32mif\u001b[0m \u001b[0mage\u001b[0m \u001b[1;33m<=\u001b[0m \u001b[1;36m18\u001b[0m\u001b[1;33m:\u001b[0m \u001b[1;32mraise\u001b[0m \u001b[0mToYoungException\u001b[0m\u001b[1;33m(\u001b[0m\u001b[1;34m'To Young For Voting'\u001b[0m\u001b[1;33m)\u001b[0m\u001b[1;33m\u001b[0m\u001b[1;33m\u001b[0m\u001b[0m\n\u001b[0m",
      "\u001b[1;31mToYoungException\u001b[0m: To Young For Voting"
     ]
    }
   ],
   "source": [
    "class ToYoungException(Exception):\n",
    "    def __init__(self,msg):\n",
    "        self.msg = msg\n",
    "age = 12\n",
    "if age <= 18: raise ToYoungException('To Young For Voting')"
   ]
  },
  {
   "cell_type": "markdown",
   "id": "0f4d183b",
   "metadata": {},
   "source": [
    "## 3. Describe two methods for attaching context information to exception artefacts."
   ]
  },
  {
   "cell_type": "markdown",
   "id": "f7583457",
   "metadata": {},
   "source": [
    "__Ans:__ The __`process()`__ method of LoggerAdapter is where the contextual information is added to the logging output. its passes the message and keyword arguments of the logging call, and it passes back modified versions of these to use in the call to the underlying logger.\n",
    "\n",
    "Other method that can be used is __`exception()`__, Logs a messgae with level ERROR on this logger. The arguments are interpreted as for __`debug()`__. Exception info is added to the logging message."
   ]
  },
  {
   "cell_type": "markdown",
   "id": "51850713",
   "metadata": {},
   "source": [
    "## 4. Describe two methods for specifying the text of an exception object's error message."
   ]
  },
  {
   "cell_type": "markdown",
   "id": "2cdb1b57",
   "metadata": {},
   "source": [
    "__`Ans:`__ __`raise`__ and __`assert`__ are two methods for specifying the text of an exception object's error message.__`raise`__ statement is used to trigger explicit exception, if certain condition is not as per requirement of programmer. it helps in triggering exception as per need of programmer and logic.\n",
    "\n",
    "There are few assertions that programmer always want to be True to avoid code failure. This type of requirment is fullfilled by __`assert`__ statement. This statement takes a Boolean Condition output of which if True, further program executes. if output of assert statement is False it raises an __`Assertion Error.`__"
   ]
  },
  {
   "cell_type": "markdown",
   "id": "69eb41d0",
   "metadata": {},
   "source": [
    "## 5. Why do you no longer use string-based exceptions?"
   ]
  },
  {
   "cell_type": "markdown",
   "id": "7432d980",
   "metadata": {},
   "source": [
    "__Ans:__ String-based Exceptions doesn't inherit from Exceptions. so plain exceptions catch all exceptions and not only system."
   ]
  },
  {
   "cell_type": "code",
   "execution_count": null,
   "id": "ebab8cfe",
   "metadata": {},
   "outputs": [],
   "source": []
  }
 ],
 "metadata": {
  "kernelspec": {
   "display_name": "Python 3",
   "language": "python",
   "name": "python3"
  },
  "language_info": {
   "codemirror_mode": {
    "name": "ipython",
    "version": 3
   },
   "file_extension": ".py",
   "mimetype": "text/x-python",
   "name": "python",
   "nbconvert_exporter": "python",
   "pygments_lexer": "ipython3",
   "version": "3.8.8"
  }
 },
 "nbformat": 4,
 "nbformat_minor": 5
}
