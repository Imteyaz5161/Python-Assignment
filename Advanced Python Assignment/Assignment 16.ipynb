{
 "cells": [
  {
   "cell_type": "markdown",
   "id": "03bcec4c",
   "metadata": {},
   "source": [
    "# Assignment 16"
   ]
  },
  {
   "cell_type": "markdown",
   "id": "97cc05cb",
   "metadata": {},
   "source": [
    "## 1. What is the benefit of regular expressions?"
   ]
  },
  {
   "cell_type": "markdown",
   "id": "b67782be",
   "metadata": {},
   "source": [
    "__Ans:__ Regular Expressions, also known as __`regex`__ or __`regexp`__, are used to match strings of text such as particular characters, words, or patterns of characters. It means that we can match and extract any string pattern from the text with the help of regular expressions. it helps the programmers to Write less and cleaner code. it also avoids multiple use of __`if/else`__ statements.Regular expressions are a powerful feature of any language and solve a particular class of problems extraordinarily well. They can be used to validate user input, extract relevant data from a string, or even modify a string based on its contents.\n",
    "\n",
    "Python's regular expression library is called \"re\" and is based on Perl's regular expression engine, which is pretty much an industry standard now.\n",
    "\n"
   ]
  },
  {
   "cell_type": "markdown",
   "id": "4d6f3972",
   "metadata": {},
   "source": [
    "## 2. Describe the difference between the effects of \"(ab)c+\" and \"a(bc)+.\" Which of these, if any, is the unqualified pattern \"abc+\"?"
   ]
  },
  {
   "cell_type": "markdown",
   "id": "b5c1b22b",
   "metadata": {},
   "source": [
    "__Ans:__ Both `(ab)c+` and `a(bc)+` are valid patterns. The difference between both these patterns is that in `(ab)c+ ab` is a group whereas in `a(bc)+ bc` is a group. Capturing groups are a way to treat multiple characters as a single unit. They are created by placing the characters to be grouped inside a set of parentheses."
   ]
  },
  {
   "cell_type": "markdown",
   "id": "ff8e21fc",
   "metadata": {},
   "source": [
    "## 3. How much do you need to use the following sentence while using regular expressions?\n",
    "__`import re`__\n"
   ]
  },
  {
   "cell_type": "markdown",
   "id": "cf1ee673",
   "metadata": {},
   "source": [
    "__Ans:__ `import re` statement always has to be imported before using regular expressions. In a program, we need to import this once so that we can use Regular Expressions subsequently."
   ]
  },
  {
   "cell_type": "markdown",
   "id": "b8cc8e9a",
   "metadata": {},
   "source": [
    "## 4. Which characters have special significance in square brackets when expressing a range, and under what circumstances?"
   ]
  },
  {
   "cell_type": "markdown",
   "id": "d2ba0b33",
   "metadata": {},
   "source": [
    "__Ans:__ The Characters `.`,`*`,`?`,`^`,or,`()`, have a special signiface when used with square brackets. They need not be be explicitly escaped by `\\` as in case of pattern texts in a raw string. Range in Regular Expressions Ranges of characters can be indicated by giving two characters and separating them by a ‘-‘, for example [a-z] will match any lowercase ASCII letter, [0-5][0-9] will match all the two-digits numbers from 00 to 59."
   ]
  },
  {
   "cell_type": "markdown",
   "id": "e47c952a",
   "metadata": {},
   "source": [
    "## 5. How does compiling a regular-expression object benefit you?"
   ]
  },
  {
   "cell_type": "markdown",
   "id": "33e91b12",
   "metadata": {},
   "source": [
    "__Ans:__ We can Combine a regular expression pattern into pattern Objects.Which can be used for pattern matching. it also helps to search a pattern again without rewritting it."
   ]
  },
  {
   "cell_type": "markdown",
   "id": "a4151fd0",
   "metadata": {},
   "source": [
    "## 6. What are some examples of how to use the match object returned by re.match and re.search?"
   ]
  },
  {
   "cell_type": "markdown",
   "id": "b95821ef",
   "metadata": {},
   "source": [
    "__Ans:__ The `re.search()` and `re.match()` both are functions of re module in python. These functions are very efficient and fast for searching in strings. The function searches for some substring in a string and returns a match object if found, else it returns none.\n",
    "\n",
    "There is a difference between the use of both functions. Both return the first match of a substring found in the string, but `re.match()` searches only from the beginning of the string and return match object if found. But if a match of substring is found somewhere in the middle of the string, it returns none.\n",
    "\n",
    "While `re.search()` searches for the whole string even if the string contains multi-lines and tries to find a match of the substring in all the lines of string"
   ]
  },
  {
   "cell_type": "code",
   "execution_count": 1,
   "id": "c2976c31",
   "metadata": {},
   "outputs": [
    {
     "name": "stdout",
     "output_type": "stream",
     "text": [
      "<re.Match object; span=(66, 72), match='string'>\n",
      "None\n",
      "<re.Match object; span=(0, 6), match='string'>\n",
      "<re.Match object; span=(0, 6), match='string'>\n"
     ]
    }
   ],
   "source": [
    "import re\n",
    "Substring ='string' \n",
    "String1 ='We are learning regex with geeksforgeeks regex is very useful for string matching. It is fast too.' \n",
    "String2 ='string We are learning regex with geeksforgeeks regex is very useful for string matching. It is fast too.'\n",
    "print(re.search(Substring, String1, re.IGNORECASE))\n",
    "print(re.match(Substring, String1, re.IGNORECASE))\n",
    "print(re.search(Substring, String2, re.IGNORECASE))\n",
    "print(re.match(Substring, String2, re.IGNORECASE))"
   ]
  },
  {
   "cell_type": "markdown",
   "id": "b571c0c3",
   "metadata": {},
   "source": [
    "## 7. What is the difference between using a vertical bar (|) as an alteration and using square brackets as a character set?"
   ]
  },
  {
   "cell_type": "markdown",
   "id": "0f01ec37",
   "metadata": {},
   "source": [
    "__Ans:__ When __`|`__ us used then patterns searches for `or` option. i.e __`<pattern_1>|<pattern_2>`__ means it searches as __`<pattern_1>or<<pattern_2>`__ in the searched string. the first occurance of matched string will be returned as the Match Object. Using Character set in square Brackets searches for all the character set in the square bracket and if match is found, it returns it."
   ]
  },
  {
   "cell_type": "code",
   "execution_count": 2,
   "id": "c9249ffa",
   "metadata": {},
   "outputs": [],
   "source": [
    "#For example\n",
    "#[p – t] = [ pqrst ]\n",
    "#For example, (x|y|z)ab match by any string-like, x, y, z, a, b."
   ]
  },
  {
   "cell_type": "markdown",
   "id": "195805d0",
   "metadata": {},
   "source": [
    "## 8. In regular-expression search patterns, why is it necessary to use the raw-string indicator (r)? In   replacement strings?"
   ]
  },
  {
   "cell_type": "markdown",
   "id": "d38863c6",
   "metadata": {},
   "source": [
    "__Ans:__ Raw Strings are used in the regular-expression search patterns, so that blackslashes donot have to be escaped. When one wants to match a literal backslash, it must be escaped in the regular expression. With raw string notation, this means r\"\". Without raw string notation, one must use 4 times back slashes"
   ]
  },
  {
   "cell_type": "code",
   "execution_count": null,
   "id": "b85f49e1",
   "metadata": {},
   "outputs": [],
   "source": []
  }
 ],
 "metadata": {
  "kernelspec": {
   "display_name": "Python 3",
   "language": "python",
   "name": "python3"
  },
  "language_info": {
   "codemirror_mode": {
    "name": "ipython",
    "version": 3
   },
   "file_extension": ".py",
   "mimetype": "text/x-python",
   "name": "python",
   "nbconvert_exporter": "python",
   "pygments_lexer": "ipython3",
   "version": "3.8.8"
  }
 },
 "nbformat": 4,
 "nbformat_minor": 5
}
