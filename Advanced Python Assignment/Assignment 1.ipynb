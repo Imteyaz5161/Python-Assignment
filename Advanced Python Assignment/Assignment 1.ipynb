{
 "cells": [
  {
   "cell_type": "markdown",
   "id": "bd9df674",
   "metadata": {},
   "source": [
    "# Assignment 1"
   ]
  },
  {
   "cell_type": "markdown",
   "id": "0fb3f61b",
   "metadata": {},
   "source": [
    "## 1. What is the purpose of Python's OOP?"
   ]
  },
  {
   "cell_type": "markdown",
   "id": "b2ffc80a",
   "metadata": {},
   "source": [
    "Object-oriented Programming (OOPs) is a programming paradigm that uses objects and classes in programming. It aims to implement real-world entities like inheritance, polymorphisms, encapsulation, etc. in the programming. The main concept of OOPs is to bind the data and the functions that work on that together as a single unit so that no other part of the code can access this data.\n"
   ]
  },
  {
   "cell_type": "markdown",
   "id": "10e3bcc6",
   "metadata": {},
   "source": [
    "## 2. Where does an inheritance search look for an attribute?"
   ]
  },
  {
   "cell_type": "markdown",
   "id": "9d7f49e7",
   "metadata": {},
   "source": [
    "Python searches for an attribute in an upward tree of attributes. Tt first searches for the attribute in its instance and then looks in the class it is generated from, to all super classes listed in its class header."
   ]
  },
  {
   "cell_type": "markdown",
   "id": "808fd40e",
   "metadata": {},
   "source": [
    "## 3. How do you distinguish between a class object and an instance object?"
   ]
  },
  {
   "cell_type": "markdown",
   "id": "692a0db2",
   "metadata": {},
   "source": [
    "The differences between a class object and an instance object are:\n",
    "\n",
    "- 1. Class is a template for creating objects whereas object is an instance of class\n",
    "\n",
    "- 2. Seperate memory is allocated for each object whenever an object is created. but for a class this doesnot happens.\n",
    "\n",
    "- 3. A Class is created once. Many objects are created using a class.\n",
    "\n",
    "- 4. As Classes have no allocated memory. they can't be manipulated. but objects can be manipulated."
   ]
  },
  {
   "cell_type": "markdown",
   "id": "bef2ed56",
   "metadata": {},
   "source": [
    "## 4. What makes the first argument in a class’s method function special?"
   ]
  },
  {
   "cell_type": "markdown",
   "id": "3d4ef81e",
   "metadata": {},
   "source": [
    "Python Classes usually have three types of methods which are:\n",
    "\n",
    "- 1. Instance Methods (object level methods)\n",
    "\n",
    "- 2. Class Methods (class level methods)\n",
    "\n",
    "- 3. Static Methods (general utility methods)\n",
    "\n",
    "- 4. self is the first argument for instance methods. which refers to the object itself\n",
    "\n",
    "- 5. cls is the first argument for class methods which refers to the class itself\n",
    "\n"
   ]
  },
  {
   "cell_type": "markdown",
   "id": "ebb2155b",
   "metadata": {},
   "source": [
    "## 5. What is the purpose of the __init__ method?"
   ]
  },
  {
   "cell_type": "markdown",
   "id": "a32e2c33",
   "metadata": {},
   "source": [
    "***init*** is a reseved method in python classes. It serves the role of a constructor in object oriented terminology. This method is called when an object is created from a class and it allows the class to initialize the attributes of the class."
   ]
  },
  {
   "cell_type": "markdown",
   "id": "53dbff6c",
   "metadata": {},
   "source": [
    "## 6. What is the process for creating a class instance?"
   ]
  },
  {
   "cell_type": "markdown",
   "id": "58ede846",
   "metadata": {},
   "source": [
    "To create a class instance, we need to call the class by its name and pass the arguments to the class, which its init method accepts.\n",
    "\n",
    "Example: my_name = my_class(\"MD\",\"Imteyaz\") Here my_name is an instance of class my_class with attributes \"MD\" and \"Imteyaz\"."
   ]
  },
  {
   "cell_type": "markdown",
   "id": "058134f2",
   "metadata": {},
   "source": [
    "## 7. What is the process for creating a class?"
   ]
  },
  {
   "cell_type": "markdown",
   "id": "4f105e3c",
   "metadata": {},
   "source": [
    "class keyword is used to created a class in python. The syntax to create a class in python is class :\n",
    "\n",
    "Example: class Shop: ➞ this creates a class called Shop"
   ]
  },
  {
   "cell_type": "markdown",
   "id": "2794a844",
   "metadata": {},
   "source": [
    "## 8. How would you define the superclasses of a class?"
   ]
  },
  {
   "cell_type": "markdown",
   "id": "b2b83d0f",
   "metadata": {},
   "source": [
    "Superclass/Parent class is given as a arugment to the child class\n",
    "\n",
    "Example: class Employee(Person): Here child class Employee inherits attributes and methods/functions from Superclass/Parent Person"
   ]
  },
  {
   "cell_type": "code",
   "execution_count": null,
   "id": "7f2f9aac",
   "metadata": {},
   "outputs": [],
   "source": []
  }
 ],
 "metadata": {
  "kernelspec": {
   "display_name": "Python 3",
   "language": "python",
   "name": "python3"
  },
  "language_info": {
   "codemirror_mode": {
    "name": "ipython",
    "version": 3
   },
   "file_extension": ".py",
   "mimetype": "text/x-python",
   "name": "python",
   "nbconvert_exporter": "python",
   "pygments_lexer": "ipython3",
   "version": "3.8.8"
  }
 },
 "nbformat": 4,
 "nbformat_minor": 5
}
