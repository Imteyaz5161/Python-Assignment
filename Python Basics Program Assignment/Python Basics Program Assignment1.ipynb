{
 "cells": [
  {
   "cell_type": "markdown",
   "id": "daf527cb",
   "metadata": {},
   "source": [
    "# Programming_Assignment1"
   ]
  },
  {
   "cell_type": "markdown",
   "id": "60997191",
   "metadata": {},
   "source": [
    "## 1. Write a Python program to print \"Hello Python\"?\n"
   ]
  },
  {
   "cell_type": "code",
   "execution_count": 14,
   "id": "a3ba2202",
   "metadata": {},
   "outputs": [
    {
     "name": "stdout",
     "output_type": "stream",
     "text": [
      "Hello Python\n"
     ]
    }
   ],
   "source": [
    "print(\"Hello Python\")"
   ]
  },
  {
   "cell_type": "markdown",
   "id": "7e4f4bed",
   "metadata": {},
   "source": [
    "## 2. Write a Python program to do arithmetical operations addition and division.?\n"
   ]
  },
  {
   "cell_type": "code",
   "execution_count": 4,
   "id": "7f4bafe5",
   "metadata": {},
   "outputs": [],
   "source": [
    "a  = 5\n",
    "b = 10"
   ]
  },
  {
   "cell_type": "code",
   "execution_count": 6,
   "id": "658671b7",
   "metadata": {},
   "outputs": [
    {
     "name": "stdout",
     "output_type": "stream",
     "text": [
      "15\n"
     ]
    }
   ],
   "source": [
    "print(a+b) # addition"
   ]
  },
  {
   "cell_type": "code",
   "execution_count": 12,
   "id": "23d32cf9",
   "metadata": {},
   "outputs": [
    {
     "name": "stdout",
     "output_type": "stream",
     "text": [
      "a/b\n"
     ]
    }
   ],
   "source": [
    "print(a/b)  #division"
   ]
  },
  {
   "cell_type": "markdown",
   "id": "f3e53e35",
   "metadata": {},
   "source": [
    "## 3. Write a Python program to find the area of a triangle?\n"
   ]
  },
  {
   "cell_type": "code",
   "execution_count": 24,
   "id": "23f74906",
   "metadata": {},
   "outputs": [],
   "source": [
    "l = 10 # lenth_of_triangle = l\n",
    "w = 20 # width_of_triangle = w\n",
    "area_of_triangle = l*w"
   ]
  },
  {
   "cell_type": "code",
   "execution_count": 22,
   "id": "d0ba1056",
   "metadata": {},
   "outputs": [
    {
     "name": "stdout",
     "output_type": "stream",
     "text": [
      "200\n"
     ]
    }
   ],
   "source": [
    "print(area_of_triangle)"
   ]
  },
  {
   "cell_type": "markdown",
   "id": "b624511b",
   "metadata": {},
   "source": [
    "## 4. Write a Python program to swap two variables?\n"
   ]
  },
  {
   "cell_type": "code",
   "execution_count": 25,
   "id": "25cc7d4f",
   "metadata": {},
   "outputs": [],
   "source": [
    "# python program to demonstrate\n",
    "# swapping of two variables"
   ]
  },
  {
   "cell_type": "code",
   "execution_count": 33,
   "id": "d4163cc3",
   "metadata": {},
   "outputs": [],
   "source": [
    "a = 10\n",
    "b = 20\n",
    "temp = a\n",
    "a = b\n",
    "b= temp"
   ]
  },
  {
   "cell_type": "code",
   "execution_count": 34,
   "id": "7c6bf9d3",
   "metadata": {},
   "outputs": [
    {
     "name": "stdout",
     "output_type": "stream",
     "text": [
      "20\n",
      "10\n"
     ]
    }
   ],
   "source": [
    "print(a) # 10\n",
    "print(b) # 20"
   ]
  },
  {
   "cell_type": "markdown",
   "id": "cbd62b05",
   "metadata": {},
   "source": [
    "## 5. Write a Python program to generate a random number?\n"
   ]
  },
  {
   "cell_type": "code",
   "execution_count": 35,
   "id": "d7cfe131",
   "metadata": {},
   "outputs": [
    {
     "name": "stdout",
     "output_type": "stream",
     "text": [
      "9\n"
     ]
    }
   ],
   "source": [
    "import random\n",
    "x = random.randint(0,20)\n",
    "print(x)"
   ]
  },
  {
   "cell_type": "code",
   "execution_count": null,
   "id": "69303b27",
   "metadata": {},
   "outputs": [],
   "source": []
  }
 ],
 "metadata": {
  "kernelspec": {
   "display_name": "Python 3",
   "language": "python",
   "name": "python3"
  },
  "language_info": {
   "codemirror_mode": {
    "name": "ipython",
    "version": 3
   },
   "file_extension": ".py",
   "mimetype": "text/x-python",
   "name": "python",
   "nbconvert_exporter": "python",
   "pygments_lexer": "ipython3",
   "version": "3.8.8"
  }
 },
 "nbformat": 4,
 "nbformat_minor": 5
}
